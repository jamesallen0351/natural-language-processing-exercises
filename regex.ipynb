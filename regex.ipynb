{
 "cells": [
  {
   "cell_type": "markdown",
   "id": "0a8b1814",
   "metadata": {},
   "source": [
    "# Regex\n",
    "\n",
    "1. Write a function named is_vowel. It should accept a string as input and use a regular expression to determine if the passed string is a vowel. While not explicity mentioned in the lesson, you can treat the result of re.search as a boolean value that indicates whether or not the regular expression matches the given string.\n",
    "\n",
    "2. Write a function named is_valid_username that accepts a string as input. A valid username starts with a lowercase letter, and only consists of lowercase letters, numbers, or the _ character. It should also be no longer than 32 characters. The function should return either True or False depending on whether the passed string is a valid username.\n",
    "\n",
    "3. Write a regular expression to capture phone numbers. It should match all of the following:\n",
    "\n",
    "4. Use regular expressions to convert the dates below to the standardized year-month-day format.\n",
    "\n",
    "5. Write a regex to extract the various parts of these logfile lines:\n"
   ]
  },
  {
   "cell_type": "code",
   "execution_count": 1,
   "id": "2575abe4",
   "metadata": {},
   "outputs": [],
   "source": [
    "# imports\n",
    "import pandas as pd\n",
    "import re"
   ]
  },
  {
   "cell_type": "code",
   "execution_count": 13,
   "id": "90c4c5ce",
   "metadata": {},
   "outputs": [],
   "source": [
    "# Write a function named is_vowel. \n",
    "# It should accept a string as input and use a regular expression to determine if the passed string is a vowel.\n",
    "\n",
    "def is_vowel(a_string):\n",
    "    '''\n",
    "    Takes a given string and returns any vowels\n",
    "    '''\n",
    "    regexp = r'[aeiouAEIOU]'\n",
    "    \n",
    "    return re.findall(regexp, a_string)\n",
    "    "
   ]
  },
  {
   "cell_type": "code",
   "execution_count": 14,
   "id": "866a8e43",
   "metadata": {},
   "outputs": [
    {
     "data": {
      "text/plain": [
       "['a', 'o']"
      ]
     },
     "execution_count": 14,
     "metadata": {},
     "output_type": "execute_result"
    }
   ],
   "source": [
    "is_vowel('tacos')"
   ]
  },
  {
   "cell_type": "code",
   "execution_count": 15,
   "id": "fa571814",
   "metadata": {},
   "outputs": [
    {
     "data": {
      "text/plain": [
       "['A', 'O']"
      ]
     },
     "execution_count": 15,
     "metadata": {},
     "output_type": "execute_result"
    }
   ],
   "source": [
    "is_vowel('TACOS')"
   ]
  },
  {
   "cell_type": "code",
   "execution_count": 79,
   "id": "bc474fde",
   "metadata": {},
   "outputs": [],
   "source": [
    "# Write a function named is_valid_username that accepts a string as input.\n",
    "\n",
    "def is_valid_username(a_string):\n",
    "    '''\n",
    "    Takes a username that starts with a lowercase letter and only consists of lower case letters and numbers no longer\n",
    "    than 32 characters\n",
    "    '''\n",
    "    \n",
    "    regexp = r'^([a-z]+[0-9a-z]{1,32}$)'\n",
    "    if re.match(regexp,a_string):\n",
    "        return True\n",
    "    else:\n",
    "        return False"
   ]
  },
  {
   "cell_type": "code",
   "execution_count": 80,
   "id": "7184aead",
   "metadata": {},
   "outputs": [
    {
     "data": {
      "text/plain": [
       "True"
      ]
     },
     "execution_count": 80,
     "metadata": {},
     "output_type": "execute_result"
    }
   ],
   "source": [
    "is_valid_username('tonymontana01')"
   ]
  },
  {
   "cell_type": "code",
   "execution_count": 81,
   "id": "791cd858",
   "metadata": {},
   "outputs": [
    {
     "data": {
      "text/plain": [
       "False"
      ]
     },
     "execution_count": 81,
     "metadata": {},
     "output_type": "execute_result"
    }
   ],
   "source": [
    "is_valid_username('Tonymontana01')"
   ]
  },
  {
   "cell_type": "code",
   "execution_count": 82,
   "id": "9f33d68b",
   "metadata": {},
   "outputs": [
    {
     "data": {
      "text/plain": [
       "True"
      ]
     },
     "execution_count": 82,
     "metadata": {},
     "output_type": "execute_result"
    }
   ],
   "source": [
    "is_valid_username('abcdefghijklmnopqrstuvwxyzaaaaaaaaaaaaaaaaaaaaaaaaaaaaaaaaaaaaaaa123456789')"
   ]
  },
  {
   "cell_type": "code",
   "execution_count": 83,
   "id": "b8b71390",
   "metadata": {},
   "outputs": [
    {
     "name": "stdout",
     "output_type": "stream",
     "text": [
      "True\n",
      "True\n",
      "False\n",
      "True\n",
      "False\n"
     ]
    }
   ],
   "source": [
    "print(is_valid_username('aaaaaaaaaaaaaaaaaaaaaaaaaaaaaaaaa'))\n",
    "print(is_valid_username('codeup'))\n",
    "print(is_valid_username('Codeup'))\n",
    "print(is_valid_username('codeup123'))\n",
    "print(is_valid_username('1codeup'))"
   ]
  },
  {
   "cell_type": "code",
   "execution_count": null,
   "id": "970ef07d",
   "metadata": {},
   "outputs": [],
   "source": []
  }
 ],
 "metadata": {
  "kernelspec": {
   "display_name": "Python 3",
   "language": "python",
   "name": "python3"
  },
  "language_info": {
   "codemirror_mode": {
    "name": "ipython",
    "version": 3
   },
   "file_extension": ".py",
   "mimetype": "text/x-python",
   "name": "python",
   "nbconvert_exporter": "python",
   "pygments_lexer": "ipython3",
   "version": "3.8.8"
  }
 },
 "nbformat": 4,
 "nbformat_minor": 5
}
