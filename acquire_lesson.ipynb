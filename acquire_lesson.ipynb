{
 "cells": [
  {
   "cell_type": "markdown",
   "metadata": {},
   "source": [
    "# Data Acquisition with Web Scraping"
   ]
  },
  {
   "cell_type": "code",
   "execution_count": 1,
   "metadata": {},
   "outputs": [],
   "source": [
    "import requests\n",
    "from bs4 import BeautifulSoup \n",
    "import pandas as pd"
   ]
  },
  {
   "cell_type": "markdown",
   "metadata": {},
   "source": [
    "First make the request. The response is a bunch of html."
   ]
  },
  {
   "cell_type": "code",
   "execution_count": 2,
   "metadata": {},
   "outputs": [
    {
     "data": {
      "text/plain": [
       "'<!DOCTYPE html>\\n<html lang=\"en\">\\n<head>\\n    <meta charset=\"UTF-8\">\\n    <meta http-equiv=\"X-UA-Compatible\" content=\"IE=edge\">\\n    <meta name=\"viewport\" content=\"width=device-width, initial-scale=1.0\">\\n    <title>News Example Page</title>\\n    <link href=\"https://unpkg.com/tailwindcss@^2/dist/tailwind.min.css\" rel=\"stylesheet\" />\\n    <link rel=\"stylesheet\" href=\"https://cdn.jsdelivr.net/npm/bootstrap-icons@1.4.1/font/bootstrap-icons.css\" />\\n</head>\\n<body class=\"mx-auto max-w-screen-lg pb-32\">\\n    \\n<h1 class=\"my-5 text-4xl text-center\">News!</h1>\\n<div class=\"my-5 text-red-800 px-5 py-3 bg-red-100 font-bold\">\\n    <p>\\n        <i class=\"bi bi-exclamation-circle text-xl\"></i>\\n        All data on this page is strictly for demonstration purposes and fake.\\n    </p>\\n</div>\\n<div class=\"grid gap-y-12\">\\n    \\n    <div class=\"grid grid-cols-4 gap-x-4 border rounded pr-3 bg-green-50 hover:shadow-lg transition duration-500\">\\n        <img src=\"/static/placeholder.png\" />\\n        <div class=\"col-span-3 space-y-3 py-3\">\\n            <h2 class=\"text-2xl text-green-900\">part population head</h2>\\n            <div class=\"grid grid-cols-2 italic\">\\n                <p> 2009-10-02 </p>\\n                <p class=\"text-right\">By Judith Carr </p>\\n            </div>\\n            <p>Assume fight by blue. Would unit smile bill movement site call rich. Manager beautiful fire drive.\\nAfter free begin east. Eye bad culture week arm because. Experience news argue policy behind.</p>\\n        </div>\\n    </div>\\n    \\n    <div class=\"grid grid-cols-4 gap-x-4 border rounded pr-3 bg-green-50 hover:shadow-lg transition duration-500\">\\n        <img src=\"/static/placeholder.png\" />\\n        <div class=\"col-span-3 space-y-3 py-3\">\\n            <h2 class=\"text-2xl text-green-900\">say lawyer again</h2>\\n            <div class=\"grid grid-cols-2 italic\">\\n                <p> 1991-03-21 </p>\\n                <p class=\"text-right\">By Mark Jackson </p>\\n            </div>\\n            <p>Congress radio risk human. Example something local degree management to national.\\nMiss last enjoy skill. Employee choice less party foot arrive state budget. Throughout last write baby and partner rate. Possible include term.</p>\\n        </div>\\n    </div>\\n    \\n    <div class=\"grid grid-cols-4 gap-x-4 border rounded pr-3 bg-green-50 hover:shadow-lg transition duration-500\">\\n        <img src=\"/static/placeholder.png\" />\\n        <div class=\"col-span-3 space-y-3 py-3\">\\n            <h2 class=\"text-2xl text-green-900\">less administration finally</h2>\\n            <div class=\"grid grid-cols-2 italic\">\\n                <p> 2013-10-25 </p>\\n                <p class=\"text-right\">By Patrick Vasquez </p>\\n            </div>\\n            <p>According bill policy must require majority product. Against short recently present spring. Hotel result task spring. Sort meeting physical pass generation.\\nThan star out financial number reveal. News word important. School future him then food save ago. Against represent high hot talk.</p>\\n        </div>\\n    </div>\\n    \\n    <div class=\"grid grid-cols-4 gap-x-4 border rounded pr-3 bg-green-50 hover:shadow-lg transition duration-500\">\\n        <img src=\"/static/placeholder.png\" />\\n        <div class=\"col-span-3 space-y-3 py-3\">\\n            <h2 class=\"text-2xl text-green-900\">idea much example</h2>\\n            <div class=\"grid grid-cols-2 italic\">\\n                <p> 1982-08-11 </p>\\n                <p class=\"text-right\">By Barry Brown </p>\\n            </div>\\n            <p>Never foot anyone approach choose. Today air employee trial staff red. Statement speak them same firm magazine maybe.\\nImportant upon parent week watch wide. Include own card care enter debate.</p>\\n        </div>\\n    </div>\\n    \\n    <div class=\"grid grid-cols-4 gap-x-4 border rounded pr-3 bg-green-50 hover:shadow-lg transition duration-500\">\\n        <img src=\"/static/placeholder.png\" />\\n        <div class=\"col-span-3 space-y-3 py-3\">\\n            <h2 class=\"text-2xl text-green-900\">interesting could real</h2>\\n            <div class=\"grid grid-cols-2 italic\">\\n                <p> 1972-08-14 </p>\\n                <p class=\"text-right\">By Erin Bauer </p>\\n            </div>\\n            <p>Remain bring describe not energy set. Realize likely let.\\nHe full learn material peace. Author certainly million garden. Help girl spend institution quality.</p>\\n        </div>\\n    </div>\\n    \\n    <div class=\"grid grid-cols-4 gap-x-4 border rounded pr-3 bg-green-50 hover:shadow-lg transition duration-500\">\\n        <img src=\"/static/placeholder.png\" />\\n        <div class=\"col-span-3 space-y-3 py-3\">\\n            <h2 class=\"text-2xl text-green-900\">treat system stop</h2>\\n            <div class=\"grid grid-cols-2 italic\">\\n                <p> 2014-02-19 </p>\\n                <p class=\"text-right\">By Monica Smith </p>\\n            </div>\\n            <p>Office top lawyer bring read choose some chair. Forward recent sister dinner.\\nMind suddenly deal available lose cost. Study tree charge deal company. Visit example strategy over cup exist decision.</p>\\n        </div>\\n    </div>\\n    \\n    <div class=\"grid grid-cols-4 gap-x-4 border rounded pr-3 bg-green-50 hover:shadow-lg transition duration-500\">\\n        <img src=\"/static/placeholder.png\" />\\n        <div class=\"col-span-3 space-y-3 py-3\">\\n            <h2 class=\"text-2xl text-green-900\">believe after physical</h2>\\n            <div class=\"grid grid-cols-2 italic\">\\n                <p> 1981-03-20 </p>\\n                <p class=\"text-right\">By David Fox </p>\\n            </div>\\n            <p>Speak baby hour rule his boy chair big. Campaign lay wait affect civil. Human understand the alone present travel well.\\nPass put long hope senior product which.</p>\\n        </div>\\n    </div>\\n    \\n    <div class=\"grid grid-cols-4 gap-x-4 border rounded pr-3 bg-green-50 hover:shadow-lg transition duration-500\">\\n        <img src=\"/static/placeholder.png\" />\\n        <div class=\"col-span-3 space-y-3 py-3\">\\n            <h2 class=\"text-2xl text-green-900\">financial ground remember</h2>\\n            <div class=\"grid grid-cols-2 italic\">\\n                <p> 2008-05-29 </p>\\n                <p class=\"text-right\">By Danny Rodriguez </p>\\n            </div>\\n            <p>One major American writer institution expect much. Sit challenge if machine. Past evidence federal blood. Talk front marriage author huge sign.\\nFather believe church impact air even course. Yourself science radio president Congress.</p>\\n        </div>\\n    </div>\\n    \\n    <div class=\"grid grid-cols-4 gap-x-4 border rounded pr-3 bg-green-50 hover:shadow-lg transition duration-500\">\\n        <img src=\"/static/placeholder.png\" />\\n        <div class=\"col-span-3 space-y-3 py-3\">\\n            <h2 class=\"text-2xl text-green-900\">million event practice</h2>\\n            <div class=\"grid grid-cols-2 italic\">\\n                <p> 2010-06-23 </p>\\n                <p class=\"text-right\">By Julie Burch </p>\\n            </div>\\n            <p>Dream child trip song fall do. Group feel build relationship themselves.\\nLeft election reduce else story be law. So sort property just keep. If newspaper drug agreement pick car energy.</p>\\n        </div>\\n    </div>\\n    \\n    <div class=\"grid grid-cols-4 gap-x-4 border rounded pr-3 bg-green-50 hover:shadow-lg transition duration-500\">\\n        <img src=\"/static/placeholder.png\" />\\n        <div class=\"col-span-3 space-y-3 py-3\">\\n            <h2 class=\"text-2xl text-green-900\">loss tonight democratic</h2>\\n            <div class=\"grid grid-cols-2 italic\">\\n                <p> 1994-07-08 </p>\\n                <p class=\"text-right\">By Christina Carroll </p>\\n            </div>\\n            <p>Strategy do each series get production. Full behind forward deal program indicate soon. Four use relationship because tend.\\nClearly husband buy east. Outside rise describe through reflect produce remember.</p>\\n        </div>\\n    </div>\\n    \\n    <div class=\"grid grid-cols-4 gap-x-4 border rounded pr-3 bg-green-50 hover:shadow-lg transition duration-500\">\\n        <img src=\"/static/placeholder.png\" />\\n        <div class=\"col-span-3 space-y-3 py-3\">\\n            <h2 class=\"text-2xl text-green-900\">three material become</h2>\\n            <div class=\"grid grid-cols-2 italic\">\\n                <p> 1974-04-21 </p>\\n                <p class=\"text-right\">By Brittany Turner </p>\\n            </div>\\n            <p>How person phone television simple practice church. Allow teacher station leave. Professional wrong will.\\nCareer more peace run suggest join occur. Whatever cost something.</p>\\n        </div>\\n    </div>\\n    \\n    <div class=\"grid grid-cols-4 gap-x-4 border rounded pr-3 bg-green-50 hover:shadow-lg transition duration-500\">\\n        <img src=\"/static/placeholder.png\" />\\n        <div class=\"col-span-3 space-y-3 py-3\">\\n            <h2 class=\"text-2xl text-green-900\">know they deep</h2>\\n            <div class=\"grid grid-cols-2 italic\">\\n                <p> 2000-06-08 </p>\\n                <p class=\"text-right\">By William Velazquez </p>\\n            </div>\\n            <p>Take institution require she. Officer when technology stand suffer turn admit medical. Son among Mrs mouth professor easy. Evening history success audience truth sometimes.\\nMr bad prepare dinner. Everyone large everything agreement fly race billion tax.</p>\\n        </div>\\n    </div>\\n    \\n</div>\\n\\n</body>\\n</html>'"
      ]
     },
     "execution_count": 2,
     "metadata": {},
     "output_type": "execute_result"
    }
   ],
   "source": [
    "response = requests.get('https://web-scraping-demo.zgulde.net/news')\n",
    "html = response.text\n",
    "html"
   ]
  },
  {
   "cell_type": "markdown",
   "metadata": {},
   "source": [
    "We can make more sense of that html with the beautiful soup library."
   ]
  },
  {
   "cell_type": "code",
   "execution_count": 3,
   "metadata": {},
   "outputs": [
    {
     "data": {
      "text/plain": [
       "<!DOCTYPE html>\n",
       "<html lang=\"en\">\n",
       "<head>\n",
       "<meta charset=\"utf-8\"/>\n",
       "<meta content=\"IE=edge\" http-equiv=\"X-UA-Compatible\"/>\n",
       "<meta content=\"width=device-width, initial-scale=1.0\" name=\"viewport\"/>\n",
       "<title>News Example Page</title>\n",
       "<link href=\"https://unpkg.com/tailwindcss@^2/dist/tailwind.min.css\" rel=\"stylesheet\"/>\n",
       "<link href=\"https://cdn.jsdelivr.net/npm/bootstrap-icons@1.4.1/font/bootstrap-icons.css\" rel=\"stylesheet\"/>\n",
       "</head>\n",
       "<body class=\"mx-auto max-w-screen-lg pb-32\">\n",
       "<h1 class=\"my-5 text-4xl text-center\">News!</h1>\n",
       "<div class=\"my-5 text-red-800 px-5 py-3 bg-red-100 font-bold\">\n",
       "<p>\n",
       "<i class=\"bi bi-exclamation-circle text-xl\"></i>\n",
       "        All data on this page is strictly for demonstration purposes and fake.\n",
       "    </p>\n",
       "</div>\n",
       "<div class=\"grid gap-y-12\">\n",
       "<div class=\"grid grid-cols-4 gap-x-4 border rounded pr-3 bg-green-50 hover:shadow-lg transition duration-500\">\n",
       "<img src=\"/static/placeholder.png\"/>\n",
       "<div class=\"col-span-3 space-y-3 py-3\">\n",
       "<h2 class=\"text-2xl text-green-900\">part population head</h2>\n",
       "<div class=\"grid grid-cols-2 italic\">\n",
       "<p> 2009-10-02 </p>\n",
       "<p class=\"text-right\">By Judith Carr </p>\n",
       "</div>\n",
       "<p>Assume fight by blue. Would unit smile bill movement site call rich. Manager beautiful fire drive.\n",
       "After free begin east. Eye bad culture week arm because. Experience news argue policy behind.</p>\n",
       "</div>\n",
       "</div>\n",
       "<div class=\"grid grid-cols-4 gap-x-4 border rounded pr-3 bg-green-50 hover:shadow-lg transition duration-500\">\n",
       "<img src=\"/static/placeholder.png\"/>\n",
       "<div class=\"col-span-3 space-y-3 py-3\">\n",
       "<h2 class=\"text-2xl text-green-900\">say lawyer again</h2>\n",
       "<div class=\"grid grid-cols-2 italic\">\n",
       "<p> 1991-03-21 </p>\n",
       "<p class=\"text-right\">By Mark Jackson </p>\n",
       "</div>\n",
       "<p>Congress radio risk human. Example something local degree management to national.\n",
       "Miss last enjoy skill. Employee choice less party foot arrive state budget. Throughout last write baby and partner rate. Possible include term.</p>\n",
       "</div>\n",
       "</div>\n",
       "<div class=\"grid grid-cols-4 gap-x-4 border rounded pr-3 bg-green-50 hover:shadow-lg transition duration-500\">\n",
       "<img src=\"/static/placeholder.png\"/>\n",
       "<div class=\"col-span-3 space-y-3 py-3\">\n",
       "<h2 class=\"text-2xl text-green-900\">less administration finally</h2>\n",
       "<div class=\"grid grid-cols-2 italic\">\n",
       "<p> 2013-10-25 </p>\n",
       "<p class=\"text-right\">By Patrick Vasquez </p>\n",
       "</div>\n",
       "<p>According bill policy must require majority product. Against short recently present spring. Hotel result task spring. Sort meeting physical pass generation.\n",
       "Than star out financial number reveal. News word important. School future him then food save ago. Against represent high hot talk.</p>\n",
       "</div>\n",
       "</div>\n",
       "<div class=\"grid grid-cols-4 gap-x-4 border rounded pr-3 bg-green-50 hover:shadow-lg transition duration-500\">\n",
       "<img src=\"/static/placeholder.png\"/>\n",
       "<div class=\"col-span-3 space-y-3 py-3\">\n",
       "<h2 class=\"text-2xl text-green-900\">idea much example</h2>\n",
       "<div class=\"grid grid-cols-2 italic\">\n",
       "<p> 1982-08-11 </p>\n",
       "<p class=\"text-right\">By Barry Brown </p>\n",
       "</div>\n",
       "<p>Never foot anyone approach choose. Today air employee trial staff red. Statement speak them same firm magazine maybe.\n",
       "Important upon parent week watch wide. Include own card care enter debate.</p>\n",
       "</div>\n",
       "</div>\n",
       "<div class=\"grid grid-cols-4 gap-x-4 border rounded pr-3 bg-green-50 hover:shadow-lg transition duration-500\">\n",
       "<img src=\"/static/placeholder.png\"/>\n",
       "<div class=\"col-span-3 space-y-3 py-3\">\n",
       "<h2 class=\"text-2xl text-green-900\">interesting could real</h2>\n",
       "<div class=\"grid grid-cols-2 italic\">\n",
       "<p> 1972-08-14 </p>\n",
       "<p class=\"text-right\">By Erin Bauer </p>\n",
       "</div>\n",
       "<p>Remain bring describe not energy set. Realize likely let.\n",
       "He full learn material peace. Author certainly million garden. Help girl spend institution quality.</p>\n",
       "</div>\n",
       "</div>\n",
       "<div class=\"grid grid-cols-4 gap-x-4 border rounded pr-3 bg-green-50 hover:shadow-lg transition duration-500\">\n",
       "<img src=\"/static/placeholder.png\"/>\n",
       "<div class=\"col-span-3 space-y-3 py-3\">\n",
       "<h2 class=\"text-2xl text-green-900\">treat system stop</h2>\n",
       "<div class=\"grid grid-cols-2 italic\">\n",
       "<p> 2014-02-19 </p>\n",
       "<p class=\"text-right\">By Monica Smith </p>\n",
       "</div>\n",
       "<p>Office top lawyer bring read choose some chair. Forward recent sister dinner.\n",
       "Mind suddenly deal available lose cost. Study tree charge deal company. Visit example strategy over cup exist decision.</p>\n",
       "</div>\n",
       "</div>\n",
       "<div class=\"grid grid-cols-4 gap-x-4 border rounded pr-3 bg-green-50 hover:shadow-lg transition duration-500\">\n",
       "<img src=\"/static/placeholder.png\"/>\n",
       "<div class=\"col-span-3 space-y-3 py-3\">\n",
       "<h2 class=\"text-2xl text-green-900\">believe after physical</h2>\n",
       "<div class=\"grid grid-cols-2 italic\">\n",
       "<p> 1981-03-20 </p>\n",
       "<p class=\"text-right\">By David Fox </p>\n",
       "</div>\n",
       "<p>Speak baby hour rule his boy chair big. Campaign lay wait affect civil. Human understand the alone present travel well.\n",
       "Pass put long hope senior product which.</p>\n",
       "</div>\n",
       "</div>\n",
       "<div class=\"grid grid-cols-4 gap-x-4 border rounded pr-3 bg-green-50 hover:shadow-lg transition duration-500\">\n",
       "<img src=\"/static/placeholder.png\"/>\n",
       "<div class=\"col-span-3 space-y-3 py-3\">\n",
       "<h2 class=\"text-2xl text-green-900\">financial ground remember</h2>\n",
       "<div class=\"grid grid-cols-2 italic\">\n",
       "<p> 2008-05-29 </p>\n",
       "<p class=\"text-right\">By Danny Rodriguez </p>\n",
       "</div>\n",
       "<p>One major American writer institution expect much. Sit challenge if machine. Past evidence federal blood. Talk front marriage author huge sign.\n",
       "Father believe church impact air even course. Yourself science radio president Congress.</p>\n",
       "</div>\n",
       "</div>\n",
       "<div class=\"grid grid-cols-4 gap-x-4 border rounded pr-3 bg-green-50 hover:shadow-lg transition duration-500\">\n",
       "<img src=\"/static/placeholder.png\"/>\n",
       "<div class=\"col-span-3 space-y-3 py-3\">\n",
       "<h2 class=\"text-2xl text-green-900\">million event practice</h2>\n",
       "<div class=\"grid grid-cols-2 italic\">\n",
       "<p> 2010-06-23 </p>\n",
       "<p class=\"text-right\">By Julie Burch </p>\n",
       "</div>\n",
       "<p>Dream child trip song fall do. Group feel build relationship themselves.\n",
       "Left election reduce else story be law. So sort property just keep. If newspaper drug agreement pick car energy.</p>\n",
       "</div>\n",
       "</div>\n",
       "<div class=\"grid grid-cols-4 gap-x-4 border rounded pr-3 bg-green-50 hover:shadow-lg transition duration-500\">\n",
       "<img src=\"/static/placeholder.png\"/>\n",
       "<div class=\"col-span-3 space-y-3 py-3\">\n",
       "<h2 class=\"text-2xl text-green-900\">loss tonight democratic</h2>\n",
       "<div class=\"grid grid-cols-2 italic\">\n",
       "<p> 1994-07-08 </p>\n",
       "<p class=\"text-right\">By Christina Carroll </p>\n",
       "</div>\n",
       "<p>Strategy do each series get production. Full behind forward deal program indicate soon. Four use relationship because tend.\n",
       "Clearly husband buy east. Outside rise describe through reflect produce remember.</p>\n",
       "</div>\n",
       "</div>\n",
       "<div class=\"grid grid-cols-4 gap-x-4 border rounded pr-3 bg-green-50 hover:shadow-lg transition duration-500\">\n",
       "<img src=\"/static/placeholder.png\"/>\n",
       "<div class=\"col-span-3 space-y-3 py-3\">\n",
       "<h2 class=\"text-2xl text-green-900\">three material become</h2>\n",
       "<div class=\"grid grid-cols-2 italic\">\n",
       "<p> 1974-04-21 </p>\n",
       "<p class=\"text-right\">By Brittany Turner </p>\n",
       "</div>\n",
       "<p>How person phone television simple practice church. Allow teacher station leave. Professional wrong will.\n",
       "Career more peace run suggest join occur. Whatever cost something.</p>\n",
       "</div>\n",
       "</div>\n",
       "<div class=\"grid grid-cols-4 gap-x-4 border rounded pr-3 bg-green-50 hover:shadow-lg transition duration-500\">\n",
       "<img src=\"/static/placeholder.png\"/>\n",
       "<div class=\"col-span-3 space-y-3 py-3\">\n",
       "<h2 class=\"text-2xl text-green-900\">know they deep</h2>\n",
       "<div class=\"grid grid-cols-2 italic\">\n",
       "<p> 2000-06-08 </p>\n",
       "<p class=\"text-right\">By William Velazquez </p>\n",
       "</div>\n",
       "<p>Take institution require she. Officer when technology stand suffer turn admit medical. Son among Mrs mouth professor easy. Evening history success audience truth sometimes.\n",
       "Mr bad prepare dinner. Everyone large everything agreement fly race billion tax.</p>\n",
       "</div>\n",
       "</div>\n",
       "</div>\n",
       "</body>\n",
       "</html>"
      ]
     },
     "execution_count": 3,
     "metadata": {},
     "output_type": "execute_result"
    }
   ],
   "source": [
    "soup = BeautifulSoup(html)\n",
    "soup"
   ]
  },
  {
   "cell_type": "markdown",
   "metadata": {},
   "source": [
    "From here we can switch between the browser and python and try out different ways of getting different parts of the html document.\n",
    "\n",
    "We can leverage Google Chrome's developer tools by right clicking and choosing \"Inspect\". We can then use this html document inspector to help us with our web scraping."
   ]
  },
  {
   "cell_type": "code",
   "execution_count": 4,
   "metadata": {},
   "outputs": [
    {
     "data": {
      "text/plain": [
       "[<p> 2009-10-02 </p>, <p class=\"text-right\">By Judith Carr </p>]"
      ]
     },
     "execution_count": 4,
     "metadata": {},
     "output_type": "execute_result"
    }
   ],
   "source": [
    "articles = soup.select('.grid.grid-cols-4.gap-x-4.border')\n",
    "articles[0].select('.italic')[0].select('p')"
   ]
  },
  {
   "cell_type": "markdown",
   "metadata": {},
   "source": [
    "Bringing it all together:"
   ]
  },
  {
   "cell_type": "code",
   "execution_count": 5,
   "metadata": {},
   "outputs": [
    {
     "data": {
      "text/html": [
       "<div>\n",
       "<style scoped>\n",
       "    .dataframe tbody tr th:only-of-type {\n",
       "        vertical-align: middle;\n",
       "    }\n",
       "\n",
       "    .dataframe tbody tr th {\n",
       "        vertical-align: top;\n",
       "    }\n",
       "\n",
       "    .dataframe thead th {\n",
       "        text-align: right;\n",
       "    }\n",
       "</style>\n",
       "<table border=\"1\" class=\"dataframe\">\n",
       "  <thead>\n",
       "    <tr style=\"text-align: right;\">\n",
       "      <th></th>\n",
       "      <th>title</th>\n",
       "      <th>date</th>\n",
       "      <th>author</th>\n",
       "    </tr>\n",
       "  </thead>\n",
       "  <tbody>\n",
       "    <tr>\n",
       "      <th>0</th>\n",
       "      <td>part population head</td>\n",
       "      <td>2009-10-02</td>\n",
       "      <td>By Judith Carr</td>\n",
       "    </tr>\n",
       "    <tr>\n",
       "      <th>1</th>\n",
       "      <td>say lawyer again</td>\n",
       "      <td>2009-10-02</td>\n",
       "      <td>By Judith Carr</td>\n",
       "    </tr>\n",
       "    <tr>\n",
       "      <th>2</th>\n",
       "      <td>less administration finally</td>\n",
       "      <td>2009-10-02</td>\n",
       "      <td>By Judith Carr</td>\n",
       "    </tr>\n",
       "    <tr>\n",
       "      <th>3</th>\n",
       "      <td>idea much example</td>\n",
       "      <td>2009-10-02</td>\n",
       "      <td>By Judith Carr</td>\n",
       "    </tr>\n",
       "    <tr>\n",
       "      <th>4</th>\n",
       "      <td>interesting could real</td>\n",
       "      <td>2009-10-02</td>\n",
       "      <td>By Judith Carr</td>\n",
       "    </tr>\n",
       "    <tr>\n",
       "      <th>5</th>\n",
       "      <td>treat system stop</td>\n",
       "      <td>2009-10-02</td>\n",
       "      <td>By Judith Carr</td>\n",
       "    </tr>\n",
       "    <tr>\n",
       "      <th>6</th>\n",
       "      <td>believe after physical</td>\n",
       "      <td>2009-10-02</td>\n",
       "      <td>By Judith Carr</td>\n",
       "    </tr>\n",
       "    <tr>\n",
       "      <th>7</th>\n",
       "      <td>financial ground remember</td>\n",
       "      <td>2009-10-02</td>\n",
       "      <td>By Judith Carr</td>\n",
       "    </tr>\n",
       "    <tr>\n",
       "      <th>8</th>\n",
       "      <td>million event practice</td>\n",
       "      <td>2009-10-02</td>\n",
       "      <td>By Judith Carr</td>\n",
       "    </tr>\n",
       "    <tr>\n",
       "      <th>9</th>\n",
       "      <td>loss tonight democratic</td>\n",
       "      <td>2009-10-02</td>\n",
       "      <td>By Judith Carr</td>\n",
       "    </tr>\n",
       "    <tr>\n",
       "      <th>10</th>\n",
       "      <td>three material become</td>\n",
       "      <td>2009-10-02</td>\n",
       "      <td>By Judith Carr</td>\n",
       "    </tr>\n",
       "    <tr>\n",
       "      <th>11</th>\n",
       "      <td>know they deep</td>\n",
       "      <td>2009-10-02</td>\n",
       "      <td>By Judith Carr</td>\n",
       "    </tr>\n",
       "  </tbody>\n",
       "</table>\n",
       "</div>"
      ],
      "text/plain": [
       "                          title          date           author\n",
       "0          part population head   2009-10-02   By Judith Carr \n",
       "1              say lawyer again   2009-10-02   By Judith Carr \n",
       "2   less administration finally   2009-10-02   By Judith Carr \n",
       "3             idea much example   2009-10-02   By Judith Carr \n",
       "4        interesting could real   2009-10-02   By Judith Carr \n",
       "5             treat system stop   2009-10-02   By Judith Carr \n",
       "6        believe after physical   2009-10-02   By Judith Carr \n",
       "7     financial ground remember   2009-10-02   By Judith Carr \n",
       "8        million event practice   2009-10-02   By Judith Carr \n",
       "9       loss tonight democratic   2009-10-02   By Judith Carr \n",
       "10        three material become   2009-10-02   By Judith Carr \n",
       "11               know they deep   2009-10-02   By Judith Carr "
      ]
     },
     "execution_count": 5,
     "metadata": {},
     "output_type": "execute_result"
    }
   ],
   "source": [
    "def process_article(article):\n",
    "    date, author = articles[0].select('.italic')[0].select('p')\n",
    "    return {\n",
    "        'title': article.h2.text,\n",
    "        'date': date.text,\n",
    "        'author': author.text\n",
    "    }\n",
    "\n",
    "pd.DataFrame([process_article(article) for article in articles])"
   ]
  },
  {
   "cell_type": "code",
   "execution_count": null,
   "metadata": {},
   "outputs": [],
   "source": [
    "MFRAKVACI"
   ]
  },
  {
   "cell_type": "code",
   "execution_count": null,
   "metadata": {},
   "outputs": [],
   "source": [
    "EM10IP77UW"
   ]
  }
 ],
 "metadata": {
  "interpreter": {
   "hash": "38cca0c38332a56087b24af0bc80247f4fced29cb4f7f437d91dc159adec9c4e"
  },
  "kernelspec": {
   "display_name": "Python 3",
   "language": "python",
   "name": "python3"
  },
  "language_info": {
   "codemirror_mode": {
    "name": "ipython",
    "version": 3
   },
   "file_extension": ".py",
   "mimetype": "text/x-python",
   "name": "python",
   "nbconvert_exporter": "python",
   "pygments_lexer": "ipython3",
   "version": "3.8.8"
  }
 },
 "nbformat": 4,
 "nbformat_minor": 4
}
