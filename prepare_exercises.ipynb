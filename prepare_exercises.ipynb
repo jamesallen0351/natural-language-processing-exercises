{
 "cells": [
  {
   "cell_type": "markdown",
   "id": "55f63dac",
   "metadata": {},
   "source": [
    "# Prepare Exercises\n",
    "\n",
    "The end result of this exercise should be a file named prepare.py that defines the requested functions.\n",
    "\n",
    "In this exercise we will be defining some functions to prepare textual data. These functions should apply equally well to both the codeup blog articles and the news articles that were previously acquired.\n",
    "\n",
    "### 1. Define a function named basic_clean. It should take in a string and apply some basic text cleaning to it:\n",
    "\n",
    "- Lowercase everything\n",
    "- Normalize unicode characters\n",
    "- Replace anything that is not a letter, number, whitespace or a single quote.\n",
    "\n",
    "### 2. Define a function named tokenize. It should take in a string and tokenize all the words in the string.\n",
    "\n",
    "### 3. Define a function named stem. It should accept some text and return the text after applying stemming to all the words.\n",
    "\n",
    "### 4. Define a function named lemmatize. It should accept some text and return the text after applying lemmatization to each word.\n",
    "\n",
    "### 5. Define a function named remove_stopwords. It should accept some text and return the text after removing all the stopwords.This function should define two optional parameters, extra_words and exclude_words. These parameters should define any additional stop words to include, and any words that we don't want to remove.\n",
    "\n",
    "### 6. Use your data from the acquire to produce a dataframe of the news articles. Name the dataframe news_df.\n",
    "\n",
    "### 7. Make another dataframe for the Codeup blog posts. Name the dataframe codeup_df.\n",
    "\n",
    "### 8. For each dataframe, produce the following columns:\n",
    "\n",
    "- title to hold the title\n",
    "- original to hold the original article/post content\n",
    "- clean to hold the normalized and tokenized original with the stopwords removed.\n",
    "- stemmed to hold the stemmed version of the cleaned data.\n",
    "- lemmatized to hold the lemmatized version of the cleaned data.\n",
    "\n",
    "### 9. Ask yourself:\n",
    "\n",
    "- If your corpus is 493KB, would you prefer to use stemmed or lemmatized text?\n",
    "- If your corpus is 25MB, would you prefer to use stemmed or lemmatized text?\n",
    "- If your corpus is 200TB of text and you're charged by the megabyte for your hosted computational resources, would you prefer to use stemmed or lemmatized text?"
   ]
  },
  {
   "cell_type": "code",
   "execution_count": 2,
   "id": "52c6edf6",
   "metadata": {},
   "outputs": [],
   "source": [
    "# imports\n",
    "import unicodedata\n",
    "import re\n",
    "import json\n",
    "\n",
    "import nltk\n",
    "from nltk.tokenize.toktok import ToktokTokenizer\n",
    "from nltk.corpus import stopwords\n",
    "\n",
    "import pandas as pd\n",
    "\n",
    "import warnings\n",
    "warnings.filter=\"ignore\""
   ]
  },
  {
   "cell_type": "code",
   "execution_count": 10,
   "id": "829b7204",
   "metadata": {},
   "outputs": [],
   "source": [
    "# 1 basic_clean\n",
    "\n",
    "def basic_clean(string):\n",
    "    '''\n",
    "    basic cleaning function: lowercase, normalize, and remove characters\n",
    "    ''' \n",
    "    # lowercase everthing\n",
    "    string = string.lower()\n",
    "    # normalize unicode charaters\n",
    "    string = unicodedata.normalize('NFKD', string)\\\n",
    "    .encode('ascii','ignore')\\\n",
    "    .decode('utf-8')\n",
    "    # replace anything that is not a letter, number, whitespace or a single quote\n",
    "    string = re.sub(r\"[^a-z0-9'\\s]\", '', string)\n",
    "    string = re.sub(r\"\\n\", '', string)\n",
    "    \n",
    "    return string"
   ]
  },
  {
   "cell_type": "code",
   "execution_count": 11,
   "id": "d3a0abca",
   "metadata": {},
   "outputs": [
    {
     "data": {
      "text/plain": [
       "\"our 25th anniversary ale is here learn about this year's blend and find out where it's available near you here httpsfalcn3jkqt\""
      ]
     },
     "execution_count": 11,
     "metadata": {},
     "output_type": "execute_result"
    }
   ],
   "source": [
    "basic_clean(\"Our 25th Anniversary Ale is here! Learn about this year's blend and find out where it's available near you here: https://fal.cn/3jkQt\")"
   ]
  },
  {
   "cell_type": "code",
   "execution_count": null,
   "id": "ded7a6df",
   "metadata": {},
   "outputs": [],
   "source": []
  }
 ],
 "metadata": {
  "kernelspec": {
   "display_name": "Python 3",
   "language": "python",
   "name": "python3"
  },
  "language_info": {
   "codemirror_mode": {
    "name": "ipython",
    "version": 3
   },
   "file_extension": ".py",
   "mimetype": "text/x-python",
   "name": "python",
   "nbconvert_exporter": "python",
   "pygments_lexer": "ipython3",
   "version": "3.8.8"
  }
 },
 "nbformat": 4,
 "nbformat_minor": 5
}
